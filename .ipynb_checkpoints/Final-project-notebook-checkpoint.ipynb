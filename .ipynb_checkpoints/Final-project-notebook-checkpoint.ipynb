{
 "cells": [
  {
   "cell_type": "markdown",
   "metadata": {},
   "source": [
    "## Looking for early signs of Climate Change in the Antarctic"
   ]
  },
  {
   "cell_type": "markdown",
   "metadata": {},
   "source": [
    "#### 0. Importing the necessary libraries"
   ]
  },
  {
   "cell_type": "code",
   "execution_count": 18,
   "metadata": {},
   "outputs": [],
   "source": [
    "# Numerical and data analysis libraries\n",
    "import numpy as np\n",
    "import pandas as pd\n",
    "\n",
    "# Data visualization libraries\n",
    "import matplotlib.pyplot as plt\n",
    "import seaborn as sns\n",
    "import plotly.express as px\n",
    "from plotly.subplots import make_subplots\n",
    "\n",
    "# Modeling libraries\n",
    "from sklearn.metrics import mean_squared_error, r2_score\n",
    "from sklearn.model_selection import train_test_split\n",
    "from sklearn.ensemble import RandomForestRegressor\n"
   ]
  },
  {
   "cell_type": "markdown",
   "metadata": {},
   "source": [
    "### 1. Sea Ice Extent"
   ]
  },
  {
   "cell_type": "code",
   "execution_count": 3,
   "metadata": {},
   "outputs": [
    {
     "data": {
      "text/html": [
       "<div>\n",
       "<style scoped>\n",
       "    .dataframe tbody tr th:only-of-type {\n",
       "        vertical-align: middle;\n",
       "    }\n",
       "\n",
       "    .dataframe tbody tr th {\n",
       "        vertical-align: top;\n",
       "    }\n",
       "\n",
       "    .dataframe thead th {\n",
       "        text-align: right;\n",
       "    }\n",
       "</style>\n",
       "<table border=\"1\" class=\"dataframe\">\n",
       "  <thead>\n",
       "    <tr style=\"text-align: right;\">\n",
       "      <th></th>\n",
       "      <th>Ship</th>\n",
       "      <th>date</th>\n",
       "      <th>Latitude</th>\n",
       "      <th>Longitude</th>\n",
       "      <th>Temp (air)</th>\n",
       "      <th>Temp (sea)</th>\n",
       "      <th>mBar</th>\n",
       "      <th>Weather</th>\n",
       "      <th>Wind</th>\n",
       "      <th>Strength (Wind)</th>\n",
       "      <th>...</th>\n",
       "      <th>Humpback Whale</th>\n",
       "      <th>Sperm Whales</th>\n",
       "      <th>Sei Whale</th>\n",
       "      <th>Unnamed: 17</th>\n",
       "      <th>Unnamed: 18</th>\n",
       "      <th>Unnamed: 19</th>\n",
       "      <th>Unnamed: 20</th>\n",
       "      <th>Unnamed: 21</th>\n",
       "      <th>Unnamed: 22</th>\n",
       "      <th>Unnamed: 23</th>\n",
       "    </tr>\n",
       "  </thead>\n",
       "  <tbody>\n",
       "    <tr>\n",
       "      <th>0</th>\n",
       "      <td>Solglimt</td>\n",
       "      <td>10/23/1932</td>\n",
       "      <td>-54.100</td>\n",
       "      <td>5.100</td>\n",
       "      <td>NaN</td>\n",
       "      <td>NaN</td>\n",
       "      <td>979.0</td>\n",
       "      <td>l</td>\n",
       "      <td>N</td>\n",
       "      <td>3.0</td>\n",
       "      <td>...</td>\n",
       "      <td>0.0</td>\n",
       "      <td>NaN</td>\n",
       "      <td>NaN</td>\n",
       "      <td>NaN</td>\n",
       "      <td>NaN</td>\n",
       "      <td>NaN</td>\n",
       "      <td>NaN</td>\n",
       "      <td>NaN</td>\n",
       "      <td>NaN</td>\n",
       "      <td>NaN</td>\n",
       "    </tr>\n",
       "    <tr>\n",
       "      <th>1</th>\n",
       "      <td>Solglimt</td>\n",
       "      <td>10/24/1932</td>\n",
       "      <td>-53.583</td>\n",
       "      <td>4.800</td>\n",
       "      <td>NaN</td>\n",
       "      <td>NaN</td>\n",
       "      <td>986.0</td>\n",
       "      <td>d</td>\n",
       "      <td>NW</td>\n",
       "      <td>4.0</td>\n",
       "      <td>...</td>\n",
       "      <td>0.0</td>\n",
       "      <td>NaN</td>\n",
       "      <td>NaN</td>\n",
       "      <td>NaN</td>\n",
       "      <td>NaN</td>\n",
       "      <td>NaN</td>\n",
       "      <td>NaN</td>\n",
       "      <td>NaN</td>\n",
       "      <td>NaN</td>\n",
       "      <td>NaN</td>\n",
       "    </tr>\n",
       "    <tr>\n",
       "      <th>2</th>\n",
       "      <td>Solglimt</td>\n",
       "      <td>10/25/1932</td>\n",
       "      <td>-53.300</td>\n",
       "      <td>4.000</td>\n",
       "      <td>NaN</td>\n",
       "      <td>NaN</td>\n",
       "      <td>993.0</td>\n",
       "      <td>d</td>\n",
       "      <td>NW</td>\n",
       "      <td>4.0</td>\n",
       "      <td>...</td>\n",
       "      <td>0.0</td>\n",
       "      <td>NaN</td>\n",
       "      <td>NaN</td>\n",
       "      <td>NaN</td>\n",
       "      <td>NaN</td>\n",
       "      <td>NaN</td>\n",
       "      <td>NaN</td>\n",
       "      <td>NaN</td>\n",
       "      <td>NaN</td>\n",
       "      <td>NaN</td>\n",
       "    </tr>\n",
       "    <tr>\n",
       "      <th>3</th>\n",
       "      <td>Solglimt</td>\n",
       "      <td>10/26/1932</td>\n",
       "      <td>-53.617</td>\n",
       "      <td>3.600</td>\n",
       "      <td>NaN</td>\n",
       "      <td>NaN</td>\n",
       "      <td>994.0</td>\n",
       "      <td>c</td>\n",
       "      <td>WSW</td>\n",
       "      <td>3.0</td>\n",
       "      <td>...</td>\n",
       "      <td>0.0</td>\n",
       "      <td>NaN</td>\n",
       "      <td>NaN</td>\n",
       "      <td>NaN</td>\n",
       "      <td>NaN</td>\n",
       "      <td>NaN</td>\n",
       "      <td>NaN</td>\n",
       "      <td>NaN</td>\n",
       "      <td>NaN</td>\n",
       "      <td>NaN</td>\n",
       "    </tr>\n",
       "    <tr>\n",
       "      <th>4</th>\n",
       "      <td>Solglimt</td>\n",
       "      <td>10/27/1932</td>\n",
       "      <td>-53.400</td>\n",
       "      <td>3.333</td>\n",
       "      <td>NaN</td>\n",
       "      <td>NaN</td>\n",
       "      <td>1018.0</td>\n",
       "      <td>d</td>\n",
       "      <td>WNW</td>\n",
       "      <td>2.0</td>\n",
       "      <td>...</td>\n",
       "      <td>0.0</td>\n",
       "      <td>NaN</td>\n",
       "      <td>NaN</td>\n",
       "      <td>NaN</td>\n",
       "      <td>NaN</td>\n",
       "      <td>NaN</td>\n",
       "      <td>NaN</td>\n",
       "      <td>NaN</td>\n",
       "      <td>NaN</td>\n",
       "      <td>NaN</td>\n",
       "    </tr>\n",
       "  </tbody>\n",
       "</table>\n",
       "<p>5 rows × 24 columns</p>\n",
       "</div>"
      ],
      "text/plain": [
       "       Ship        date  Latitude  Longitude  Temp (air)  Temp (sea)    mBar  \\\n",
       "0  Solglimt  10/23/1932   -54.100      5.100         NaN         NaN   979.0   \n",
       "1  Solglimt  10/24/1932   -53.583      4.800         NaN         NaN   986.0   \n",
       "2  Solglimt  10/25/1932   -53.300      4.000         NaN         NaN   993.0   \n",
       "3  Solglimt  10/26/1932   -53.617      3.600         NaN         NaN   994.0   \n",
       "4  Solglimt  10/27/1932   -53.400      3.333         NaN         NaN  1018.0   \n",
       "\n",
       "  Weather Wind  Strength (Wind)  ...  Humpback Whale Sperm Whales  Sei Whale  \\\n",
       "0       l    N              3.0  ...             0.0          NaN        NaN   \n",
       "1       d   NW              4.0  ...             0.0          NaN        NaN   \n",
       "2       d   NW              4.0  ...             0.0          NaN        NaN   \n",
       "3       c  WSW              3.0  ...             0.0          NaN        NaN   \n",
       "4       d  WNW              2.0  ...             0.0          NaN        NaN   \n",
       "\n",
       "   Unnamed: 17  Unnamed: 18  Unnamed: 19  Unnamed: 20  Unnamed: 21  \\\n",
       "0          NaN          NaN          NaN          NaN          NaN   \n",
       "1          NaN          NaN          NaN          NaN          NaN   \n",
       "2          NaN          NaN          NaN          NaN          NaN   \n",
       "3          NaN          NaN          NaN          NaN          NaN   \n",
       "4          NaN          NaN          NaN          NaN          NaN   \n",
       "\n",
       "   Unnamed: 22  Unnamed: 23  \n",
       "0          NaN          NaN  \n",
       "1          NaN          NaN  \n",
       "2          NaN          NaN  \n",
       "3          NaN          NaN  \n",
       "4          NaN          NaN  \n",
       "\n",
       "[5 rows x 24 columns]"
      ]
     },
     "execution_count": 3,
     "metadata": {},
     "output_type": "execute_result"
    }
   ],
   "source": [
    "df = pd.read_csv('Bjorge_et_al_catchlogbook_whaling_weather_data_1932-63_data_publication.csv')\n",
    "df.head()"
   ]
  },
  {
   "cell_type": "markdown",
   "metadata": {},
   "source": [
    "#### Extracting Ice Observations from the Dataset\n",
    "\n",
    "This code processes the main dataset (`df`) to extract sea ice observations marked with \"G\" or \"H\" (likely indicating types of ice). It creates a new DataFrame (`ice_df`) with structured columns for year, month, date, ice type, latitude, and longitude. This transformation prepares the data for visualization and analysis of ice distribution over time.\n"
   ]
  },
  {
   "cell_type": "code",
   "execution_count": 4,
   "metadata": {},
   "outputs": [
    {
     "data": {
      "text/html": [
       "<div>\n",
       "<style scoped>\n",
       "    .dataframe tbody tr th:only-of-type {\n",
       "        vertical-align: middle;\n",
       "    }\n",
       "\n",
       "    .dataframe tbody tr th {\n",
       "        vertical-align: top;\n",
       "    }\n",
       "\n",
       "    .dataframe thead th {\n",
       "        text-align: right;\n",
       "    }\n",
       "</style>\n",
       "<table border=\"1\" class=\"dataframe\">\n",
       "  <thead>\n",
       "    <tr style=\"text-align: right;\">\n",
       "      <th></th>\n",
       "      <th>Year</th>\n",
       "      <th>Month</th>\n",
       "      <th>Date</th>\n",
       "      <th>Letter</th>\n",
       "      <th>Lat</th>\n",
       "      <th>Lon</th>\n",
       "    </tr>\n",
       "  </thead>\n",
       "  <tbody>\n",
       "    <tr>\n",
       "      <th>0</th>\n",
       "      <td>1935</td>\n",
       "      <td>11</td>\n",
       "      <td>26</td>\n",
       "      <td>G</td>\n",
       "      <td>-56.500</td>\n",
       "      <td>23.233</td>\n",
       "    </tr>\n",
       "    <tr>\n",
       "      <th>1</th>\n",
       "      <td>1935</td>\n",
       "      <td>11</td>\n",
       "      <td>27</td>\n",
       "      <td>G</td>\n",
       "      <td>-56.733</td>\n",
       "      <td>23.650</td>\n",
       "    </tr>\n",
       "    <tr>\n",
       "      <th>2</th>\n",
       "      <td>1935</td>\n",
       "      <td>11</td>\n",
       "      <td>28</td>\n",
       "      <td>G</td>\n",
       "      <td>-56.483</td>\n",
       "      <td>24.517</td>\n",
       "    </tr>\n",
       "    <tr>\n",
       "      <th>3</th>\n",
       "      <td>1935</td>\n",
       "      <td>11</td>\n",
       "      <td>29</td>\n",
       "      <td>G</td>\n",
       "      <td>-56.850</td>\n",
       "      <td>24.533</td>\n",
       "    </tr>\n",
       "    <tr>\n",
       "      <th>4</th>\n",
       "      <td>1935</td>\n",
       "      <td>11</td>\n",
       "      <td>30</td>\n",
       "      <td>G</td>\n",
       "      <td>-57.067</td>\n",
       "      <td>24.250</td>\n",
       "    </tr>\n",
       "    <tr>\n",
       "      <th>...</th>\n",
       "      <td>...</td>\n",
       "      <td>...</td>\n",
       "      <td>...</td>\n",
       "      <td>...</td>\n",
       "      <td>...</td>\n",
       "      <td>...</td>\n",
       "    </tr>\n",
       "    <tr>\n",
       "      <th>509</th>\n",
       "      <td>1959</td>\n",
       "      <td>3</td>\n",
       "      <td>9</td>\n",
       "      <td>G</td>\n",
       "      <td>-68.867</td>\n",
       "      <td>16.750</td>\n",
       "    </tr>\n",
       "    <tr>\n",
       "      <th>510</th>\n",
       "      <td>1959</td>\n",
       "      <td>12</td>\n",
       "      <td>5</td>\n",
       "      <td>H</td>\n",
       "      <td>-55.883</td>\n",
       "      <td>-9.700</td>\n",
       "    </tr>\n",
       "    <tr>\n",
       "      <th>511</th>\n",
       "      <td>1959</td>\n",
       "      <td>12</td>\n",
       "      <td>6</td>\n",
       "      <td>H</td>\n",
       "      <td>-55.050</td>\n",
       "      <td>-5.967</td>\n",
       "    </tr>\n",
       "    <tr>\n",
       "      <th>512</th>\n",
       "      <td>1959</td>\n",
       "      <td>12</td>\n",
       "      <td>9</td>\n",
       "      <td>H</td>\n",
       "      <td>-56.267</td>\n",
       "      <td>11.750</td>\n",
       "    </tr>\n",
       "    <tr>\n",
       "      <th>513</th>\n",
       "      <td>1961</td>\n",
       "      <td>3</td>\n",
       "      <td>4</td>\n",
       "      <td>H</td>\n",
       "      <td>-68.650</td>\n",
       "      <td>-1.517</td>\n",
       "    </tr>\n",
       "  </tbody>\n",
       "</table>\n",
       "<p>514 rows × 6 columns</p>\n",
       "</div>"
      ],
      "text/plain": [
       "     Year  Month  Date Letter     Lat     Lon\n",
       "0    1935     11    26      G -56.500  23.233\n",
       "1    1935     11    27      G -56.733  23.650\n",
       "2    1935     11    28      G -56.483  24.517\n",
       "3    1935     11    29      G -56.850  24.533\n",
       "4    1935     11    30      G -57.067  24.250\n",
       "..    ...    ...   ...    ...     ...     ...\n",
       "509  1959      3     9      G -68.867  16.750\n",
       "510  1959     12     5      H -55.883  -9.700\n",
       "511  1959     12     6      H -55.050  -5.967\n",
       "512  1959     12     9      H -56.267  11.750\n",
       "513  1961      3     4      H -68.650  -1.517\n",
       "\n",
       "[514 rows x 6 columns]"
      ]
     },
     "execution_count": 4,
     "metadata": {},
     "output_type": "execute_result"
    }
   ],
   "source": [
    "import warnings\n",
    "warnings.filterwarnings(\"ignore\")\n",
    "\n",
    "# Convert 'date' to datetime\n",
    "df[\"date_parsed\"] = pd.to_datetime(df[\"date\"], format=\"%m/%d/%Y\")\n",
    "\n",
    "# Extract date components\n",
    "df[\"Year\"] = df[\"date_parsed\"].dt.year\n",
    "df[\"Month\"] = df[\"date_parsed\"].dt.month\n",
    "df[\"Day\"] = df[\"date_parsed\"].dt.day\n",
    "\n",
    "# Initialize structured DataFrame\n",
    "ice_df = pd.DataFrame(columns=[\"Year\", \"Month\", \"Date\", \"Letter\", \"Lat\", \"Lon\"])\n",
    "\n",
    "# Loop to extract G and H letters into new rows\n",
    "for i, row in df.iterrows():\n",
    "    ice_val = row[\"Ice\"]\n",
    "    if isinstance(ice_val, str):\n",
    "        for letter in [\"G\", \"H\"]:\n",
    "            if letter in ice_val:\n",
    "                ice_df.loc[len(ice_df)] = [\n",
    "                    row[\"Year\"], row[\"Month\"], row[\"Day\"],\n",
    "                    letter, row[\"Latitude\"], row[\"Longitude\"]\n",
    "                ]\n",
    "\n",
    "# Display cleaned ice data\n",
    "ice_df"
   ]
  },
  {
   "cell_type": "markdown",
   "metadata": {},
   "source": [
    "#### Visualization of Pack Ice Observations (Type H)\n",
    "\n",
    "This plot shows the global distribution of all sea ice observations labeled with the letter \"H\" (likely indicating a specific ice condition or type, e.g., \"Pack Ice\") from the dataset. Each observation is color-coded by the year it was recorded, using an azimuthal equal area projection to emphasize polar regions like Antarctica.\n"
   ]
  },
  {
   "cell_type": "code",
   "execution_count": 7,
   "metadata": {},
   "outputs": [
    {
     "data": {
      "application/vnd.plotly.v1+json": {
       "config": {
        "plotlyServerURL": "https://plot.ly"
       },
       "data": [
        {
         "geo": "geo",
         "hovertemplate": "Lat=%{lat}<br>Lon=%{lon}<br>Year=%{marker.color}<extra></extra>",
         "lat": {
          "bdata": "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",
          "dtype": "f8"
         },
         "legendgroup": "",
         "lon": {
          "bdata": "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",
          "dtype": "f8"
         },
         "marker": {
          "color": {
           "bdata": "jwePB48HjwePB48HjweQB5AHkAeQB5AHkAeQB5AHkAeQB5AHkAeQB5AHkAeQB5AHkAeQB5AHkAeQB5AHkAeRB5EHkQeSB5IHkgeSB5IHkgeSB5IHkgeSB5IHkgeSB5IHkweQB5AHkAeRB5EHkQeRB5EHkQeRB5IHkgeSB5IHkgeSB5IHkgeSB5IHmQeZB5kHmQeZB5kHmQeZB5kHmQeZB5kHmQeZB5wHnAecB5wHnAecB5wHnAecB5wHnAecB5wHnAedB50HnQedB50HnQedB50HnQedB50HnQedB50HnQedB50HnQedB50HnQedB50HnQedB50HnQedB50HnQedB50HnQedB50HnQedB50HnQedB50HnQedB50HnQedB50HngeeB54HngeeB54HngeeB54HngeeB54HngefB58HnwefB58HnwefB58HnwefB58HnwefB58HnwefB58HnwefB58HnwefB58HnwefB6AHoAegB6AHoAegB6AHoAegB6AHoQehB6IHogeiB6IHogeiB6IHowekB6UHpwenB6gHqAeoB6gHqAepB6kHqQeqB6oHnAecB5wHnAedB50HnQedB50HnQedB50HnQedB50HnQedB50HnQedB50HnQedB50HnQedB50HngeeB54HngeeB54HngeeB54HngeeB54HngeeB54HngeeB54HngeeB54HngeeB54HnwefB58HnwefB58HnwefB58HoAegB6AHoAegB6AHoAegB6AHoQehB6IHogeiB6cHpwenB6cHqQepB6oHqgeqB6oHqgerB6sHnQedB50HnQefB58HnwefB58HnwefB58HoAegB6AHoAegB6AHoAegB6AHoQeiB6IHogeiB6IHogejB6QHpAekB6QHpwenB6cHqQc=",
           "dtype": "i2"
          },
          "coloraxis": "coloraxis",
          "symbol": "circle"
         },
         "mode": "markers",
         "name": "",
         "showlegend": false,
         "type": "scattergeo"
        }
       ],
       "layout": {
        "coloraxis": {
         "colorbar": {
          "title": {
           "text": "Year"
          }
         },
         "colorscale": [
          [
           0,
           "#0d0887"
          ],
          [
           0.1111111111111111,
           "#46039f"
          ],
          [
           0.2222222222222222,
           "#7201a8"
          ],
          [
           0.3333333333333333,
           "#9c179e"
          ],
          [
           0.4444444444444444,
           "#bd3786"
          ],
          [
           0.5555555555555556,
           "#d8576b"
          ],
          [
           0.6666666666666666,
           "#ed7953"
          ],
          [
           0.7777777777777778,
           "#fb9f3a"
          ],
          [
           0.8888888888888888,
           "#fdca26"
          ],
          [
           1,
           "#f0f921"
          ]
         ]
        },
        "geo": {
         "center": {},
         "domain": {
          "x": [
           0,
           1
          ],
          "y": [
           0,
           1
          ]
         },
         "projection": {
          "type": "azimuthal equal area"
         }
        },
        "legend": {
         "tracegroupgap": 0
        },
        "template": {
         "data": {
          "bar": [
           {
            "error_x": {
             "color": "#2a3f5f"
            },
            "error_y": {
             "color": "#2a3f5f"
            },
            "marker": {
             "line": {
              "color": "#E5ECF6",
              "width": 0.5
             },
             "pattern": {
              "fillmode": "overlay",
              "size": 10,
              "solidity": 0.2
             }
            },
            "type": "bar"
           }
          ],
          "barpolar": [
           {
            "marker": {
             "line": {
              "color": "#E5ECF6",
              "width": 0.5
             },
             "pattern": {
              "fillmode": "overlay",
              "size": 10,
              "solidity": 0.2
             }
            },
            "type": "barpolar"
           }
          ],
          "carpet": [
           {
            "aaxis": {
             "endlinecolor": "#2a3f5f",
             "gridcolor": "white",
             "linecolor": "white",
             "minorgridcolor": "white",
             "startlinecolor": "#2a3f5f"
            },
            "baxis": {
             "endlinecolor": "#2a3f5f",
             "gridcolor": "white",
             "linecolor": "white",
             "minorgridcolor": "white",
             "startlinecolor": "#2a3f5f"
            },
            "type": "carpet"
           }
          ],
          "choropleth": [
           {
            "colorbar": {
             "outlinewidth": 0,
             "ticks": ""
            },
            "type": "choropleth"
           }
          ],
          "contour": [
           {
            "colorbar": {
             "outlinewidth": 0,
             "ticks": ""
            },
            "colorscale": [
             [
              0,
              "#0d0887"
             ],
             [
              0.1111111111111111,
              "#46039f"
             ],
             [
              0.2222222222222222,
              "#7201a8"
             ],
             [
              0.3333333333333333,
              "#9c179e"
             ],
             [
              0.4444444444444444,
              "#bd3786"
             ],
             [
              0.5555555555555556,
              "#d8576b"
             ],
             [
              0.6666666666666666,
              "#ed7953"
             ],
             [
              0.7777777777777778,
              "#fb9f3a"
             ],
             [
              0.8888888888888888,
              "#fdca26"
             ],
             [
              1,
              "#f0f921"
             ]
            ],
            "type": "contour"
           }
          ],
          "contourcarpet": [
           {
            "colorbar": {
             "outlinewidth": 0,
             "ticks": ""
            },
            "type": "contourcarpet"
           }
          ],
          "heatmap": [
           {
            "colorbar": {
             "outlinewidth": 0,
             "ticks": ""
            },
            "colorscale": [
             [
              0,
              "#0d0887"
             ],
             [
              0.1111111111111111,
              "#46039f"
             ],
             [
              0.2222222222222222,
              "#7201a8"
             ],
             [
              0.3333333333333333,
              "#9c179e"
             ],
             [
              0.4444444444444444,
              "#bd3786"
             ],
             [
              0.5555555555555556,
              "#d8576b"
             ],
             [
              0.6666666666666666,
              "#ed7953"
             ],
             [
              0.7777777777777778,
              "#fb9f3a"
             ],
             [
              0.8888888888888888,
              "#fdca26"
             ],
             [
              1,
              "#f0f921"
             ]
            ],
            "type": "heatmap"
           }
          ],
          "histogram": [
           {
            "marker": {
             "pattern": {
              "fillmode": "overlay",
              "size": 10,
              "solidity": 0.2
             }
            },
            "type": "histogram"
           }
          ],
          "histogram2d": [
           {
            "colorbar": {
             "outlinewidth": 0,
             "ticks": ""
            },
            "colorscale": [
             [
              0,
              "#0d0887"
             ],
             [
              0.1111111111111111,
              "#46039f"
             ],
             [
              0.2222222222222222,
              "#7201a8"
             ],
             [
              0.3333333333333333,
              "#9c179e"
             ],
             [
              0.4444444444444444,
              "#bd3786"
             ],
             [
              0.5555555555555556,
              "#d8576b"
             ],
             [
              0.6666666666666666,
              "#ed7953"
             ],
             [
              0.7777777777777778,
              "#fb9f3a"
             ],
             [
              0.8888888888888888,
              "#fdca26"
             ],
             [
              1,
              "#f0f921"
             ]
            ],
            "type": "histogram2d"
           }
          ],
          "histogram2dcontour": [
           {
            "colorbar": {
             "outlinewidth": 0,
             "ticks": ""
            },
            "colorscale": [
             [
              0,
              "#0d0887"
             ],
             [
              0.1111111111111111,
              "#46039f"
             ],
             [
              0.2222222222222222,
              "#7201a8"
             ],
             [
              0.3333333333333333,
              "#9c179e"
             ],
             [
              0.4444444444444444,
              "#bd3786"
             ],
             [
              0.5555555555555556,
              "#d8576b"
             ],
             [
              0.6666666666666666,
              "#ed7953"
             ],
             [
              0.7777777777777778,
              "#fb9f3a"
             ],
             [
              0.8888888888888888,
              "#fdca26"
             ],
             [
              1,
              "#f0f921"
             ]
            ],
            "type": "histogram2dcontour"
           }
          ],
          "mesh3d": [
           {
            "colorbar": {
             "outlinewidth": 0,
             "ticks": ""
            },
            "type": "mesh3d"
           }
          ],
          "parcoords": [
           {
            "line": {
             "colorbar": {
              "outlinewidth": 0,
              "ticks": ""
             }
            },
            "type": "parcoords"
           }
          ],
          "pie": [
           {
            "automargin": true,
            "type": "pie"
           }
          ],
          "scatter": [
           {
            "fillpattern": {
             "fillmode": "overlay",
             "size": 10,
             "solidity": 0.2
            },
            "type": "scatter"
           }
          ],
          "scatter3d": [
           {
            "line": {
             "colorbar": {
              "outlinewidth": 0,
              "ticks": ""
             }
            },
            "marker": {
             "colorbar": {
              "outlinewidth": 0,
              "ticks": ""
             }
            },
            "type": "scatter3d"
           }
          ],
          "scattercarpet": [
           {
            "marker": {
             "colorbar": {
              "outlinewidth": 0,
              "ticks": ""
             }
            },
            "type": "scattercarpet"
           }
          ],
          "scattergeo": [
           {
            "marker": {
             "colorbar": {
              "outlinewidth": 0,
              "ticks": ""
             }
            },
            "type": "scattergeo"
           }
          ],
          "scattergl": [
           {
            "marker": {
             "colorbar": {
              "outlinewidth": 0,
              "ticks": ""
             }
            },
            "type": "scattergl"
           }
          ],
          "scattermap": [
           {
            "marker": {
             "colorbar": {
              "outlinewidth": 0,
              "ticks": ""
             }
            },
            "type": "scattermap"
           }
          ],
          "scattermapbox": [
           {
            "marker": {
             "colorbar": {
              "outlinewidth": 0,
              "ticks": ""
             }
            },
            "type": "scattermapbox"
           }
          ],
          "scatterpolar": [
           {
            "marker": {
             "colorbar": {
              "outlinewidth": 0,
              "ticks": ""
             }
            },
            "type": "scatterpolar"
           }
          ],
          "scatterpolargl": [
           {
            "marker": {
             "colorbar": {
              "outlinewidth": 0,
              "ticks": ""
             }
            },
            "type": "scatterpolargl"
           }
          ],
          "scatterternary": [
           {
            "marker": {
             "colorbar": {
              "outlinewidth": 0,
              "ticks": ""
             }
            },
            "type": "scatterternary"
           }
          ],
          "surface": [
           {
            "colorbar": {
             "outlinewidth": 0,
             "ticks": ""
            },
            "colorscale": [
             [
              0,
              "#0d0887"
             ],
             [
              0.1111111111111111,
              "#46039f"
             ],
             [
              0.2222222222222222,
              "#7201a8"
             ],
             [
              0.3333333333333333,
              "#9c179e"
             ],
             [
              0.4444444444444444,
              "#bd3786"
             ],
             [
              0.5555555555555556,
              "#d8576b"
             ],
             [
              0.6666666666666666,
              "#ed7953"
             ],
             [
              0.7777777777777778,
              "#fb9f3a"
             ],
             [
              0.8888888888888888,
              "#fdca26"
             ],
             [
              1,
              "#f0f921"
             ]
            ],
            "type": "surface"
           }
          ],
          "table": [
           {
            "cells": {
             "fill": {
              "color": "#EBF0F8"
             },
             "line": {
              "color": "white"
             }
            },
            "header": {
             "fill": {
              "color": "#C8D4E3"
             },
             "line": {
              "color": "white"
             }
            },
            "type": "table"
           }
          ]
         },
         "layout": {
          "annotationdefaults": {
           "arrowcolor": "#2a3f5f",
           "arrowhead": 0,
           "arrowwidth": 1
          },
          "autotypenumbers": "strict",
          "coloraxis": {
           "colorbar": {
            "outlinewidth": 0,
            "ticks": ""
           }
          },
          "colorscale": {
           "diverging": [
            [
             0,
             "#8e0152"
            ],
            [
             0.1,
             "#c51b7d"
            ],
            [
             0.2,
             "#de77ae"
            ],
            [
             0.3,
             "#f1b6da"
            ],
            [
             0.4,
             "#fde0ef"
            ],
            [
             0.5,
             "#f7f7f7"
            ],
            [
             0.6,
             "#e6f5d0"
            ],
            [
             0.7,
             "#b8e186"
            ],
            [
             0.8,
             "#7fbc41"
            ],
            [
             0.9,
             "#4d9221"
            ],
            [
             1,
             "#276419"
            ]
           ],
           "sequential": [
            [
             0,
             "#0d0887"
            ],
            [
             0.1111111111111111,
             "#46039f"
            ],
            [
             0.2222222222222222,
             "#7201a8"
            ],
            [
             0.3333333333333333,
             "#9c179e"
            ],
            [
             0.4444444444444444,
             "#bd3786"
            ],
            [
             0.5555555555555556,
             "#d8576b"
            ],
            [
             0.6666666666666666,
             "#ed7953"
            ],
            [
             0.7777777777777778,
             "#fb9f3a"
            ],
            [
             0.8888888888888888,
             "#fdca26"
            ],
            [
             1,
             "#f0f921"
            ]
           ],
           "sequentialminus": [
            [
             0,
             "#0d0887"
            ],
            [
             0.1111111111111111,
             "#46039f"
            ],
            [
             0.2222222222222222,
             "#7201a8"
            ],
            [
             0.3333333333333333,
             "#9c179e"
            ],
            [
             0.4444444444444444,
             "#bd3786"
            ],
            [
             0.5555555555555556,
             "#d8576b"
            ],
            [
             0.6666666666666666,
             "#ed7953"
            ],
            [
             0.7777777777777778,
             "#fb9f3a"
            ],
            [
             0.8888888888888888,
             "#fdca26"
            ],
            [
             1,
             "#f0f921"
            ]
           ]
          },
          "colorway": [
           "#636efa",
           "#EF553B",
           "#00cc96",
           "#ab63fa",
           "#FFA15A",
           "#19d3f3",
           "#FF6692",
           "#B6E880",
           "#FF97FF",
           "#FECB52"
          ],
          "font": {
           "color": "#2a3f5f"
          },
          "geo": {
           "bgcolor": "white",
           "lakecolor": "white",
           "landcolor": "#E5ECF6",
           "showlakes": true,
           "showland": true,
           "subunitcolor": "white"
          },
          "hoverlabel": {
           "align": "left"
          },
          "hovermode": "closest",
          "mapbox": {
           "style": "light"
          },
          "paper_bgcolor": "white",
          "plot_bgcolor": "#E5ECF6",
          "polar": {
           "angularaxis": {
            "gridcolor": "white",
            "linecolor": "white",
            "ticks": ""
           },
           "bgcolor": "#E5ECF6",
           "radialaxis": {
            "gridcolor": "white",
            "linecolor": "white",
            "ticks": ""
           }
          },
          "scene": {
           "xaxis": {
            "backgroundcolor": "#E5ECF6",
            "gridcolor": "white",
            "gridwidth": 2,
            "linecolor": "white",
            "showbackground": true,
            "ticks": "",
            "zerolinecolor": "white"
           },
           "yaxis": {
            "backgroundcolor": "#E5ECF6",
            "gridcolor": "white",
            "gridwidth": 2,
            "linecolor": "white",
            "showbackground": true,
            "ticks": "",
            "zerolinecolor": "white"
           },
           "zaxis": {
            "backgroundcolor": "#E5ECF6",
            "gridcolor": "white",
            "gridwidth": 2,
            "linecolor": "white",
            "showbackground": true,
            "ticks": "",
            "zerolinecolor": "white"
           }
          },
          "shapedefaults": {
           "line": {
            "color": "#2a3f5f"
           }
          },
          "ternary": {
           "aaxis": {
            "gridcolor": "white",
            "linecolor": "white",
            "ticks": ""
           },
           "baxis": {
            "gridcolor": "white",
            "linecolor": "white",
            "ticks": ""
           },
           "bgcolor": "#E5ECF6",
           "caxis": {
            "gridcolor": "white",
            "linecolor": "white",
            "ticks": ""
           }
          },
          "title": {
           "x": 0.05
          },
          "xaxis": {
           "automargin": true,
           "gridcolor": "white",
           "linecolor": "white",
           "ticks": "",
           "title": {
            "standoff": 15
           },
           "zerolinecolor": "white",
           "zerolinewidth": 2
          },
          "yaxis": {
           "automargin": true,
           "gridcolor": "white",
           "linecolor": "white",
           "ticks": "",
           "title": {
            "standoff": 15
           },
           "zerolinecolor": "white",
           "zerolinewidth": 2
          }
         }
        },
        "title": {
         "text": "All Observations of Pack Ice by Year"
        }
       }
      }
     },
     "metadata": {},
     "output_type": "display_data"
    }
   ],
   "source": [
    "# Filter the ice_df DataFrame to include only \"H\" observations (e.g., Pack Ice)\n",
    "h_data = ice_df[ice_df[\"Letter\"] == \"H\"]\n",
    "\n",
    "# Create a geographic scatter plot of these observations\n",
    "h_plot = px.scatter_geo(\n",
    "    h_data,\n",
    "    lat=\"Lat\",                # Latitude column\n",
    "    lon=\"Lon\",                # Longitude column\n",
    "    color=\"Year\",             # Color points by year of observation\n",
    "    projection=\"azimuthal equal area\",  # Map projection suited for polar regions\n",
    "    title=\"All Observations of Pack Ice by Year\"\n",
    ")\n",
    "\n",
    "# Display the interactive plot\n",
    "h_plot.show()"
   ]
  },
  {
   "cell_type": "markdown",
   "metadata": {},
   "source": [
    "#### Monthly Geographic Distribution of Pack Ice Observations (Type H)\n",
    "\n",
    "This visualization compares the spatial distribution of \"H\" type sea ice observations (likely pack ice) over six months: November through April. Each subplot shows a different month with color indicating the observation year. The plots are displayed using geographic scatter plots arranged in a grid layout, making it easier to compare seasonal patterns of ice distribution.\n"
   ]
  },
  {
   "cell_type": "code",
   "execution_count": 9,
   "metadata": {},
   "outputs": [
    {
     "data": {
      "application/vnd.plotly.v1+json": {
       "config": {
        "plotlyServerURL": "https://plot.ly"
       },
       "data": [
        {
         "geo": "geo",
         "hovertemplate": "Lat=%{lat}<br>Lon=%{lon}<br>Year=%{marker.color}<extra></extra>",
         "lat": {
          "bdata": "TmIQWDlkTcC0yHa+n6pMwOf7qfHSHUzAGy/dJAaRS8AbL90kBrFLwDMzMzMzs0vAjZduEoMoUMDn+6nx0p1MwBkEVg4twkzA",
          "dtype": "f8"
         },
         "legendgroup": "",
         "lon": {
          "bdata": "JzEIrBwyUUDn+6nx0t1HQC/dJAaB1S/AyXa+nxrvLcDRItv5fqonwARWDi2yXSLAjZduEoN4UcBoke18P9UywM/3U+OluzPA",
          "dtype": "f8"
         },
         "marker": {
          "color": {
           "bdata": "kQeSB5kHmQeZB5kHqAepB6kH",
           "dtype": "i2"
          },
          "coloraxis": "coloraxis",
          "symbol": "circle"
         },
         "mode": "markers",
         "name": "",
         "showlegend": false,
         "type": "scattergeo"
        },
        {
         "geo": "geo2",
         "hovertemplate": "Lat=%{lat}<br>Lon=%{lon}<br>Year=%{marker.color}<extra></extra>",
         "lat": {
          "bdata": "f2q8dJNoTcBmZmZmZoZNwJqZmZmZmU3Asp3vp8a7TcAzMzMzM7NNwOXQItv5Lk7ATmIQWDmETsDNzMzMzOxOwLTIdr6f6k7ATDeJQWD1TsBOYhBYOSRPwGZmZmZmBk/AGQRWDi0CT8CBlUOLbNdOwBkEVg4t4k7A5dAi2/nOTsBOYhBYOQRPwGZmZmZmBlDAPzVeukkEUMDNzMzMzAxQwIGVQ4ts90/Af2q8dJPIS8Dl0CLb+c5LwAAAAAAAwEvAtMh2vp/KS8AnMQisHAJQwJqZmZmZ+U/AzczMzMzsT8B/arx0k8hPwLKd76fG20/AppvEILAaUMCmm8QgsCpQwFpkO99PBVDAtMh2vp+qS8AbL90kBpFLwIGVQ4tsV0vAzczMzMysS8BmZmZmZsZLwOf7qfHSvUvA5dAi2/nOS8CBlUOLbLdLwDMzMzMz00vA5/up8dK9S8AAAAAAADBQwM3MzMzMLFDA2c73U+MdUMAnMQisHBJQwI2XbhKDCFDAmpmZmZkJUMCamZmZmflPwDMzMzMz80/ATmIQWDnkT8AAAAAAAOBPwOf7qfHS3U/Asp3vp8b7T8AAAAAAAOBPwI2XbhKDGFDAMzMzMzPTT8C0yHa+n+pPwAwCK4cWEVDATmIQWDlkTsAzMzMzMwNQwAwCK4cWAVDAsp3vp8b7T8AbL90kBvFPwLKd76fG+0/AmpmZmZkpUMCamZmZmSlQwM3MzMzMDE/A5dAi2/mOTsB/arx0kwhPwIGVQ4tsl0/AMzMzMzNzTsCamZmZmRlNwM3MzMzMLE/ADAIrhxaRUMAZBFYOLeJPwKabxCCw6lDAWmQ730/1UMBaZDvfT6VQwDMzMzMzM1DAmpmZmZlJUMCmm8QgsFpQwFpkO99PVVDAsp3vp8abT8CBlUOLbFdPwOXQItv5Dk/ATmIQWDkET8BOYhBYOWRPwIGVQ4tsV0/Af2q8dJMIT8B/arx0k2hPwBkEVg4tok/AWmQ7308VUMAzMzMzMzNQwD81XrpJFFDAMzMzMzPzT8CBlUOLbJdPwE5iEFg55E/AMzMzMzPzT8BaZDvfTxVQwI2XbhKDOFDAPzVeukk0UcAMAiuHFlFRwEw3iUFgFU3AmpmZmZl5TcDn+6nx0l1NwGZmZmZmhk3ATDeJQWCVTcDn+6nx0p1LwLKd76fGe0/A5/up8dKdTMCyne+nxptMwH9qvHST6EzA5dAi2/lOTcBMN4lBYDVMwGZmZmZmBk3AmpmZmZn5TMAZBFYOLQJOwDMzMzMzM03AAAAAAABATcDNzMzMzMxMwM3MzMzMzEzAjZduEoP4UMAbL90kBvFLwGZmZmZmhkvAGQRWDi0iTMA=",
          "dtype": "f8"
         },
         "legendgroup": "",
         "lon": {
          "bdata": "c2iR7Xw3VUAnMQisHJJVQHNoke18x1VAwcqhRbb7VUAMAiuHFhFWQD81XrpJxFVADAIrhxYBVkDByqFFtitWQCcxCKwcMlZAAAAAAAAwVkDNzMzMzBxWQI2XbhKDGFZAWmQ7308VVkA/NV66SQRWQAwCK4cW8VVA9P3UeOkOVkAnMQisHCJWQPT91HjpXl5AzczMzMx8XkCamZmZmYlfQMHKoUW2S19AAAAAAAAAF0Av3SQGgdUgQM3MzMzMzCBA1XjpJjGIHUDNzMzMzBxgQGDl0CLbDWBA+n5qvHQPYEA5tMh2vkNgQGDl0CLbZWBAzczMzMycXUDNzMzMzHxdQM3MzMzMbF1AxSCwcmgRF8DVeOkmMYgUwHe+nxov3QvAZmZmZmZm/r9GtvP91Hj/v5qZmZmZmf2/AAAAAAAAAMAAAAAAAAD4vxfZzvdT492/g8DKoUW227+amZmZmWliQMdLN4lBfGJAmpmZmZmhYkBt5/up8dZiQC2yne+nGmNAObTIdr4TY0DHSzeJQSxjQM3MzMzMLGNAx0s3iUGUY0A5tMh2vrNjQC2yne+nymNAZmZmZma+Y0AAAAAAAMBjQM3MzMzM/GJADAIrhxZhXECmm8QgsCpcQI2XbhKDiFpAAAAAAADAVECamZmZmaldQMHKoUW2u11AWmQ730+1XUBmZmZmZtZdQAAAAAAAgF1AppvEILDqXUCmm8QgsOpdQPT91HjprlVAWmQ7308FVkDZzvdT4z1VQM3MzMzMjFVA/tR46SZRMsAxCKwcWkQzwFpkO99PRVDAwcqhRbarUsAMAiuHFmFQwI2XbhKDqFXAppvEILCqVMAMAiuHFrFTwNNNYhBYxWTAmpmZmZnZZMBg5dAi201lQJqZmZmZYWVAzczMzMzMYkCamZmZmdFjQM3MzMzMjGTAmpmZmZkhZcCTGARWDtFlwDm0yHa+Q2bAx0s3iUH8ZcA5tMh2vrtlQJMYBFYOEWRAObTIdr6bY0A5tMh2votjQGDl0CLbjWNA001iEFjlY0Atsp3vpzpkQC2yne+nGmVAZmZmZmZ2ZUAzMzMzM/NiQMdLN4lBfGNAMzMzMzPLZUA5tMh2vrNlQC/dJAaB1SjAyXa+nxpvL8CYbhKDwOoxwGiR7Xw/FTPAz/dT46U7M8AzMzMzM3M5QLTIdr6fiklAmpmZmZlZNMA1XrpJDKIzwMuhRbbzXTXAaJHtfD9VNsCamZmZmVlAwLKd76fGG0DAGQRWDi0iQMAAAAAAAABHwDMzMzMzMzDA0SLb+X4qL8BiEFg5tIgiwC/dJAaB1SPAMzMzMzOjU8BmZmZmZmYjwJHtfD813hfAAAAAAACAJ0A=",
          "dtype": "f8"
         },
         "marker": {
          "color": {
           "bdata": "jwePB48HjwePB48HjweQB5AHkAeQB5AHkAeQB5AHkAeQB5EHkQeSB5IHkQeRB5EHkQeSB5IHkgeSB5IHkgeSB5IHmQeZB5kHmQeZB5kHmQeZB5kHmQecB5wHnAecB5wHnAecB5wHnAecB5wHnAecB5wHnQedB50HngeeB54HngeeB54HngeeB58HnwefB58HpAelB6cHpweoB6gHqAeoB5wHnAecB5wHngeeB54HngeeB54HngeeB54HngeeB54HngeeB54HngefB58HnwefB6AHoAegB6AHoAeiB6IHnwefB58HnwefB58HnwefB6EHogeiB6IHpAenB6cHpwc=",
           "dtype": "i2"
          },
          "coloraxis": "coloraxis",
          "symbol": "circle"
         },
         "mode": "markers",
         "name": "",
         "showlegend": false,
         "type": "scattergeo"
        },
        {
         "geo": "geo3",
         "hovertemplate": "Lat=%{lat}<br>Lon=%{lon}<br>Year=%{marker.color}<extra></extra>",
         "lat": {
          "bdata": "TDeJQWCVTsAZBFYOLaJOwDMzMzMz00/AZmZmZmbGT8BzaJHtfEdQwGZmZmZmVlDA2c73U+M9UMD0/dR46R5QwM3MzMzMLFDA2c73U+MtUMDZzvdT4y1QwJqZmZmZKVDATDeJQWC1TsAzMzMzMyNQwAAAAAAAIFDAJzEIrBwyUMDZzvdT431QwAAAAAAAQFDAAAAAAABAUMAnMQisHCJQwKabxCCwClDAAAAAAABQUMBzaJHtfAdQwDMzMzMzA1DAJzEIrBwCUMCamZmZmflPwAAAAAAAMFDAWmQ7308FUMDZzvdT4x1QwJqZmZmZGVDAc2iR7XwHUMCmm8QgsCpQwHNoke18J1DAJzEIrBwSUMDZzvdT4w1QwJqZmZmZ+U/Asp3vp8a7T8Cyne+nxrtPwLTIdr6f6k/Af2q8dJPIT8Cyne+nxhtPwMHKoUW2m1DAjZduEoMoUMDZzvdT401QwPT91HjpPlDAjZduEoNoUMCNl24Sg2hQwGZmZmZmpkzA9P3UeOl+UMAzMzMzMzNQwCcxCKwcMlDAMzMzMzMjUMA/NV66SSRQwCcxCKwcElDAAAAAAABAUMAzMzMzMzNQwKabxCCwilDAAAAAAABAUMA/NV66SeRQwAAAAAAAoFDA5dAi2/nOT8AAAAAAAABSwD81XrpJpFHAwcqhRbbLUcDNzMzMzBxRwAAAAAAAEFHAwcqhRbb7UMCamZmZmTlOwH9qvHST6E3AtMh2vp9KTsDn+6nx0n1OwDMzMzMzU07AGQRWDi1CTcAzMzMzM/NNwAAAAAAAwE3A",
          "dtype": "f8"
         },
         "legendgroup": "",
         "lon": {
          "bdata": "AAAAAADQVkCamZmZmdlWQAwCK4cWMVdAPzVeukk0V0DNzMzMzHxeQGZmZmZmJl5A2c73U+OdXUBmZmZmZtZcQD81XrpJdFxA9P3UeOluXEDByqFFtktcQCcxCKwcclxAppvEILAKVUD6fmq8dN9iQJMYBFYOqWJAObTIdr6TYkBt5/up8V5iQM3MzMzMRGJAzczMzMxEYkDTTWIQWH1iQJMYBFYO0WJAMzMzMzNrYkCamZmZmclYQJqZmZmZCVlAPzVeukk0WEAMAiuHFgFYQMHKoUW2m1NA9P3UeOkeXUDByqFFtptcQGZmZmZm9ltAAAAAAADwXED0/dR46Q5eQKabxCCwml5AwcqhRbb7XkAtsp3vpzJgQJqZmZmZKV9AwcqhRbbrXkAAAAAAAMBeQCcxCKwcgl9AAAAAAAAwWUBmZmZmZnZYQG3n+6nxDmRAbef7qfF+Y0CgGi/dJMJiQCcxCKwcYlxAJzEIrBxCVUAnMQisHDJVQJzEILByiDFAYOXQItt1ZkBt5/up8TZkQMdLN4lBJGRALbKd76cCZECTGARWDvljQDm0yHa+u2NA001iEFglZEAAAAAAADBkQC2yne+nAmVAkxgEVg5JY0DTTWIQWLVlQPp+arx0Z2VAbef7qfHOZUBg5dAi2xVmQGZmZmZmTmbAAAAAAABgZsA5tMh2vhNlQGDl0CLb9WRAx0s3iUF8ZEAxCKwcWgQywDMzMzMzE0XAZmZmZmZGRcC0yHa+nypFwOXQItv5zkTA5/up8dK9QMAzMzMzM1NCwDMzMzMz8zzA",
          "dtype": "f8"
         },
         "marker": {
          "color": {
           "bdata": "kAeQB5AHkAeSB5IHkgeSB5IHkgeSB5IHkwedB50HnQedB50HnQedB50HnQeeB54HngeeB54HnwefB58HnwefB58HnwefB58HnwefB58HnwefB6AHoAegB6AHoQehB6IHnQedB50HnQedB50HnQedB50HngeeB54HnwefB58HnwegB6AHoAehB6AHoAegB6AHoAegB6AH",
           "dtype": "i2"
          },
          "coloraxis": "coloraxis",
          "symbol": "circle"
         },
         "mode": "markers",
         "name": "",
         "showlegend": false,
         "type": "scattergeo"
        },
        {
         "geo": "geo4",
         "hovertemplate": "Lat=%{lat}<br>Lon=%{lon}<br>Year=%{marker.color}<extra></extra>",
         "lat": {
          "bdata": "c2iR7XwXUMDNzMzMzCxQwD81XrpJNFDAmpmZmZk5UMBaZDvfT0VQwAwCK4cWUVDAzczMzMxMUMAMAiuHFkFQwAAAAAAAMFDAppvEILAqUMAzMzMzMzNQwNnO91PjPVDAjZduEoM4UMDNzMzMzNxQwM3MzMzMHFHAwcqhRbYbUcAnMQisHCJRwDMzMzMzQ1HAzczMzMxsUcDNzMzMzBxRwGZmZmZmVlDAwcqhRbZbUMBzaJHtfCdQwJqZmZmZKVDAc2iR7Xw3UMDZzvdT4z1QwAAAAAAAMFDA9P3UeOkeUMAnMQisHCJQwHNoke18N1DAMzMzMzMzUMDNzMzMzCxQwMHKoUW2K1DAMzMzMzMTUMD0/dR46Q5QwKabxCCwClDAAAAAAAAAUMDNzMzMzAxQwCcxCKwcAlDAc2iR7XwHUMCamZmZmQlQwFpkO99PBVDAZmZmZmYGUMBzaJHtfAdQwDMzMzMz80/ATmIQWDkET8Cyne+nxhtPwGZmZmZmZk/AGy/dJAZxT8C0yHa+n6pPwI2XbhKDGFDAWmQ7308FUMCmm8QgsApQwM3MzMzMHFDATDeJQWD1T8BzaJHtfCdQwAwCK4cWEVDAPzVeukm0UMBaZDvfT/VQwHNoke18J1HAc2iR7XwXUcBaZDvfTyVRwOf7qfHS3U7A5/up8dIdT8DNzMzMzBxRwKabxCCwGlHAZmZmZmaGUMBzaJHtfDdQwKabxCCwSlDAppvEILBaUMBzaJHtfFdQwKabxCCwKlDAjZduEoMoUMCNl24SgyhQwD81XrpJJFDAwcqhRbabUcBaZDvfT5VRwFpkO99PlVHA2c73U+N9UcBaZDvfT3VRwAwCK4cW8VHAc2iR7Xy3UMCNl24Sg4hQwHNoke18Z1DAc2iR7Xx3UMBaZDvfT2VQwKabxCCwelDATDeJQWDVTsAbL90kBrFOwMHKoUW2O1HATDeJQWC1TsAnMQisHCJQwM3MzMzM7FDA",
          "dtype": "f8"
         },
         "legendgroup": "",
         "lon": {
          "bdata": "mpmZmZl5VkAnMQisHJJWQAwCK4cWgVZAwcqhRbZrVkAMAiuHFlFWQD81XrpJNFZAppvEILBaVkAnMQisHHJWQAwCK4cWoVZA2c73U+OdVkAMAiuHFnFeQPT91Hjpjl5APzVeukm0XkDP91PjpXs6QAAAAAAAQDFAMzMzMzOzMUAzMzMzMzMTQAAAAAAAgCJAnu+nxkv3IUD+1HjpJlE6QAAAAAAAsGFAObTIdr6TYUBt5/up8e5gQAaBlUOLwGBAkxgEVg55YEA5tMh2vitgQHNoke18119AppvEILC6X0CNl24Sg1hfQAwCK4cW0V5AWmQ730/VXkAzMzMzM7NeQAwCK4cWIV5Ac2iR7XyXXUD0/dR46T5dQMHKoUW2O11A9P3UeOleXUDZzvdT401dQGZmZmZmVl1AZmZmZmZmXUCNl24Sg5hdQJqZmZmZmV1ADAIrhxbBXUDByqFFtptdQFpkO99PRV1A9P3UeOn+V0DNzMzMzCxYQFpkO99PFVhA2c73U+P9V0CNl24Sg2hXQPT91HjpvllAMzMzMzMzWkAnMQisHFJZQAAAAAAAIFhAzczMzMwcWEBmZmZmZkZXQHNoke18F1VA5/up8dKdREDl0CLb+Q5CQAIrhxbZbj5AMQisHFrEPkDP91Pjpbs/QNEi2/l+qiPA/Knx0k0iJMDByqFFtntUwFpkO99PBVXAzczMzMx0ZEAAAAAAAIBjQAAAAAAAgGJAAAAAAADwYUBt5/up8Z5hQDMzMzMzA2FA001iEFjVYEA5tMh2vsNgQC2yne+nsmBA001iEFg9ZUBmZmZmZv5kQJMYBFYOEWVALbKd76fyZEAzMzMzM+tkQJMYBFYO6WXAO99PjZfuGsCyne+nxptNQOf7qfHS/UdAAAAAAAAASEAzMzMzM5NIQIGVQ4tsN0hAGQRWDi3CQMBmZmZmZuY/wM3MzMzMTCVAy6FFtvNdMMD0/dR46R5UQGZmZmZmRkRA",
          "dtype": "f8"
         },
         "marker": {
          "color": {
           "bdata": "kAeQB5AHkAeQB5AHkAeQB5AHkAeSB5IHkgeQB5AHkAeRB5EHkQeSB50HnQedB50HnQedB50HnQedB50HnQedB50HnQedB50HnQedB50HnQedB50HnQedB50HnwefB58HnwefB58HnwegB6AHoAegB6AHogeiB6IHogejB6kHqQeqB6oHnQedB50HnQedB50HnQedB50HngeeB54HngeeB58HoQeiB6cHpwenB6cHoAegB6IHowekB6QH",
           "dtype": "i2"
          },
          "coloraxis": "coloraxis",
          "symbol": "circle"
         },
         "mode": "markers",
         "name": "",
         "showlegend": false,
         "type": "scattergeo"
        },
        {
         "geo": "geo5",
         "hovertemplate": "Lat=%{lat}<br>Lon=%{lon}<br>Year=%{marker.color}<extra></extra>",
         "lat": {
          "bdata": "MzMzMzNTUcCNl24SgwhQwNnO91PjDVDAAAAAAADgT8AnMQisHDJQwKabxCCwOlDA9P3UeOk+UMDZzvdT4y1QwD81XrpJJFDAZmZmZmYmUMBzaJHtfCdQwHNoke18F1DAc2iR7XznUMBzaJHtfBdRwGZmZmZmtlDAMzMzMzMjUMD0/dR46S5QwAwCK4cWMVDAMzMzMzMjUMBmZmZmZkZQwPT91Hjp7lHA5dAi2/mOT8DByqFFtotQwNnO91PjvVDAc2iR7Xx3UMCamZmZmUlQwH9qvHSTSEnAMzMzMzMTScCyne+nxltPwIGVQ4tst07AtMh2vp9qT8BMN4lBYDVPwKabxCCwClHADAIrhxbhUMCNl24SgxhRwJqZmZmZKVHA",
          "dtype": "f8"
         },
         "legendgroup": "",
         "lon": {
          "bdata": "MzMzMzOzKEAzMzMzMxNdQFpkO99P5VxAMzMzMzNTXUD0/dR46a5bQFpkO99PlVtAPzVeukkUW0D0/dR46e5aQPT91Hjp/lpAMzMzMzMTW0BzaJHtfOdaQAAAAAAAsFRATmIQWDmEQkCyne+nxptAQJqZmZmZGSDA+n5qvHSnYEBmZmZmZl5gQMdLN4lBJGBALbKd76dyYEBaZDvfTzVeQJqZmZmZeWXA/tR46SbRPcAZBFYOLWJCwBkEVg4twkTAGy/dJAZRSMAZBFYOLaJOwMuhRbbznTpAz/dT46X7N0AbL90kBhFCwH9qvHSTaELAzczMzMwsRcDNzMzMzMxFwDMzMzMzMw3AzczMzMzMFcDRItv5fqopQBKDwMqhRfi/",
          "dtype": "f8"
         },
         "marker": {
          "color": {
           "bdata": "kgedB50HnQedB50HnQedB50HnQedB6AHogeiB6kHnQedB50HnQedB6AHqgeqB6oHqgeqB6sHqwedB50HnQedB6IHogekB6kH",
           "dtype": "i2"
          },
          "coloraxis": "coloraxis",
          "symbol": "circle"
         },
         "mode": "markers",
         "name": "",
         "showlegend": false,
         "type": "scattergeo"
        }
       ],
       "layout": {
        "annotations": [
         {
          "font": {
           "size": 16
          },
          "showarrow": false,
          "text": "November",
          "x": 0.225,
          "xanchor": "center",
          "xref": "paper",
          "y": 1,
          "yanchor": "bottom",
          "yref": "paper"
         },
         {
          "font": {
           "size": 16
          },
          "showarrow": false,
          "text": "December",
          "x": 0.775,
          "xanchor": "center",
          "xref": "paper",
          "y": 1,
          "yanchor": "bottom",
          "yref": "paper"
         },
         {
          "font": {
           "size": 16
          },
          "showarrow": false,
          "text": "January",
          "x": 0.225,
          "xanchor": "center",
          "xref": "paper",
          "y": 0.6111111111111112,
          "yanchor": "bottom",
          "yref": "paper"
         },
         {
          "font": {
           "size": 16
          },
          "showarrow": false,
          "text": "February",
          "x": 0.775,
          "xanchor": "center",
          "xref": "paper",
          "y": 0.6111111111111112,
          "yanchor": "bottom",
          "yref": "paper"
         },
         {
          "font": {
           "size": 16
          },
          "showarrow": false,
          "text": "March",
          "x": 0.225,
          "xanchor": "center",
          "xref": "paper",
          "y": 0.22222222222222224,
          "yanchor": "bottom",
          "yref": "paper"
         },
         {
          "font": {
           "size": 16
          },
          "showarrow": false,
          "text": "April",
          "x": 0.775,
          "xanchor": "center",
          "xref": "paper",
          "y": 0.22222222222222224,
          "yanchor": "bottom",
          "yref": "paper"
         }
        ],
        "autosize": false,
        "geo": {
         "domain": {
          "x": [
           0,
           0.45
          ],
          "y": [
           0.7777777777777778,
           1
          ]
         }
        },
        "geo2": {
         "domain": {
          "x": [
           0.55,
           1
          ],
          "y": [
           0.7777777777777778,
           1
          ]
         }
        },
        "geo3": {
         "domain": {
          "x": [
           0,
           0.45
          ],
          "y": [
           0.3888888888888889,
           0.6111111111111112
          ]
         }
        },
        "geo4": {
         "domain": {
          "x": [
           0.55,
           1
          ],
          "y": [
           0.3888888888888889,
           0.6111111111111112
          ]
         }
        },
        "geo5": {
         "domain": {
          "x": [
           0,
           0.45
          ],
          "y": [
           0,
           0.22222222222222224
          ]
         }
        },
        "geo6": {
         "domain": {
          "x": [
           0.55,
           1
          ],
          "y": [
           0,
           0.22222222222222224
          ]
         }
        },
        "height": 1000,
        "template": {
         "data": {
          "bar": [
           {
            "error_x": {
             "color": "#2a3f5f"
            },
            "error_y": {
             "color": "#2a3f5f"
            },
            "marker": {
             "line": {
              "color": "#E5ECF6",
              "width": 0.5
             },
             "pattern": {
              "fillmode": "overlay",
              "size": 10,
              "solidity": 0.2
             }
            },
            "type": "bar"
           }
          ],
          "barpolar": [
           {
            "marker": {
             "line": {
              "color": "#E5ECF6",
              "width": 0.5
             },
             "pattern": {
              "fillmode": "overlay",
              "size": 10,
              "solidity": 0.2
             }
            },
            "type": "barpolar"
           }
          ],
          "carpet": [
           {
            "aaxis": {
             "endlinecolor": "#2a3f5f",
             "gridcolor": "white",
             "linecolor": "white",
             "minorgridcolor": "white",
             "startlinecolor": "#2a3f5f"
            },
            "baxis": {
             "endlinecolor": "#2a3f5f",
             "gridcolor": "white",
             "linecolor": "white",
             "minorgridcolor": "white",
             "startlinecolor": "#2a3f5f"
            },
            "type": "carpet"
           }
          ],
          "choropleth": [
           {
            "colorbar": {
             "outlinewidth": 0,
             "ticks": ""
            },
            "type": "choropleth"
           }
          ],
          "contour": [
           {
            "colorbar": {
             "outlinewidth": 0,
             "ticks": ""
            },
            "colorscale": [
             [
              0,
              "#0d0887"
             ],
             [
              0.1111111111111111,
              "#46039f"
             ],
             [
              0.2222222222222222,
              "#7201a8"
             ],
             [
              0.3333333333333333,
              "#9c179e"
             ],
             [
              0.4444444444444444,
              "#bd3786"
             ],
             [
              0.5555555555555556,
              "#d8576b"
             ],
             [
              0.6666666666666666,
              "#ed7953"
             ],
             [
              0.7777777777777778,
              "#fb9f3a"
             ],
             [
              0.8888888888888888,
              "#fdca26"
             ],
             [
              1,
              "#f0f921"
             ]
            ],
            "type": "contour"
           }
          ],
          "contourcarpet": [
           {
            "colorbar": {
             "outlinewidth": 0,
             "ticks": ""
            },
            "type": "contourcarpet"
           }
          ],
          "heatmap": [
           {
            "colorbar": {
             "outlinewidth": 0,
             "ticks": ""
            },
            "colorscale": [
             [
              0,
              "#0d0887"
             ],
             [
              0.1111111111111111,
              "#46039f"
             ],
             [
              0.2222222222222222,
              "#7201a8"
             ],
             [
              0.3333333333333333,
              "#9c179e"
             ],
             [
              0.4444444444444444,
              "#bd3786"
             ],
             [
              0.5555555555555556,
              "#d8576b"
             ],
             [
              0.6666666666666666,
              "#ed7953"
             ],
             [
              0.7777777777777778,
              "#fb9f3a"
             ],
             [
              0.8888888888888888,
              "#fdca26"
             ],
             [
              1,
              "#f0f921"
             ]
            ],
            "type": "heatmap"
           }
          ],
          "histogram": [
           {
            "marker": {
             "pattern": {
              "fillmode": "overlay",
              "size": 10,
              "solidity": 0.2
             }
            },
            "type": "histogram"
           }
          ],
          "histogram2d": [
           {
            "colorbar": {
             "outlinewidth": 0,
             "ticks": ""
            },
            "colorscale": [
             [
              0,
              "#0d0887"
             ],
             [
              0.1111111111111111,
              "#46039f"
             ],
             [
              0.2222222222222222,
              "#7201a8"
             ],
             [
              0.3333333333333333,
              "#9c179e"
             ],
             [
              0.4444444444444444,
              "#bd3786"
             ],
             [
              0.5555555555555556,
              "#d8576b"
             ],
             [
              0.6666666666666666,
              "#ed7953"
             ],
             [
              0.7777777777777778,
              "#fb9f3a"
             ],
             [
              0.8888888888888888,
              "#fdca26"
             ],
             [
              1,
              "#f0f921"
             ]
            ],
            "type": "histogram2d"
           }
          ],
          "histogram2dcontour": [
           {
            "colorbar": {
             "outlinewidth": 0,
             "ticks": ""
            },
            "colorscale": [
             [
              0,
              "#0d0887"
             ],
             [
              0.1111111111111111,
              "#46039f"
             ],
             [
              0.2222222222222222,
              "#7201a8"
             ],
             [
              0.3333333333333333,
              "#9c179e"
             ],
             [
              0.4444444444444444,
              "#bd3786"
             ],
             [
              0.5555555555555556,
              "#d8576b"
             ],
             [
              0.6666666666666666,
              "#ed7953"
             ],
             [
              0.7777777777777778,
              "#fb9f3a"
             ],
             [
              0.8888888888888888,
              "#fdca26"
             ],
             [
              1,
              "#f0f921"
             ]
            ],
            "type": "histogram2dcontour"
           }
          ],
          "mesh3d": [
           {
            "colorbar": {
             "outlinewidth": 0,
             "ticks": ""
            },
            "type": "mesh3d"
           }
          ],
          "parcoords": [
           {
            "line": {
             "colorbar": {
              "outlinewidth": 0,
              "ticks": ""
             }
            },
            "type": "parcoords"
           }
          ],
          "pie": [
           {
            "automargin": true,
            "type": "pie"
           }
          ],
          "scatter": [
           {
            "fillpattern": {
             "fillmode": "overlay",
             "size": 10,
             "solidity": 0.2
            },
            "type": "scatter"
           }
          ],
          "scatter3d": [
           {
            "line": {
             "colorbar": {
              "outlinewidth": 0,
              "ticks": ""
             }
            },
            "marker": {
             "colorbar": {
              "outlinewidth": 0,
              "ticks": ""
             }
            },
            "type": "scatter3d"
           }
          ],
          "scattercarpet": [
           {
            "marker": {
             "colorbar": {
              "outlinewidth": 0,
              "ticks": ""
             }
            },
            "type": "scattercarpet"
           }
          ],
          "scattergeo": [
           {
            "marker": {
             "colorbar": {
              "outlinewidth": 0,
              "ticks": ""
             }
            },
            "type": "scattergeo"
           }
          ],
          "scattergl": [
           {
            "marker": {
             "colorbar": {
              "outlinewidth": 0,
              "ticks": ""
             }
            },
            "type": "scattergl"
           }
          ],
          "scattermap": [
           {
            "marker": {
             "colorbar": {
              "outlinewidth": 0,
              "ticks": ""
             }
            },
            "type": "scattermap"
           }
          ],
          "scattermapbox": [
           {
            "marker": {
             "colorbar": {
              "outlinewidth": 0,
              "ticks": ""
             }
            },
            "type": "scattermapbox"
           }
          ],
          "scatterpolar": [
           {
            "marker": {
             "colorbar": {
              "outlinewidth": 0,
              "ticks": ""
             }
            },
            "type": "scatterpolar"
           }
          ],
          "scatterpolargl": [
           {
            "marker": {
             "colorbar": {
              "outlinewidth": 0,
              "ticks": ""
             }
            },
            "type": "scatterpolargl"
           }
          ],
          "scatterternary": [
           {
            "marker": {
             "colorbar": {
              "outlinewidth": 0,
              "ticks": ""
             }
            },
            "type": "scatterternary"
           }
          ],
          "surface": [
           {
            "colorbar": {
             "outlinewidth": 0,
             "ticks": ""
            },
            "colorscale": [
             [
              0,
              "#0d0887"
             ],
             [
              0.1111111111111111,
              "#46039f"
             ],
             [
              0.2222222222222222,
              "#7201a8"
             ],
             [
              0.3333333333333333,
              "#9c179e"
             ],
             [
              0.4444444444444444,
              "#bd3786"
             ],
             [
              0.5555555555555556,
              "#d8576b"
             ],
             [
              0.6666666666666666,
              "#ed7953"
             ],
             [
              0.7777777777777778,
              "#fb9f3a"
             ],
             [
              0.8888888888888888,
              "#fdca26"
             ],
             [
              1,
              "#f0f921"
             ]
            ],
            "type": "surface"
           }
          ],
          "table": [
           {
            "cells": {
             "fill": {
              "color": "#EBF0F8"
             },
             "line": {
              "color": "white"
             }
            },
            "header": {
             "fill": {
              "color": "#C8D4E3"
             },
             "line": {
              "color": "white"
             }
            },
            "type": "table"
           }
          ]
         },
         "layout": {
          "annotationdefaults": {
           "arrowcolor": "#2a3f5f",
           "arrowhead": 0,
           "arrowwidth": 1
          },
          "autotypenumbers": "strict",
          "coloraxis": {
           "colorbar": {
            "outlinewidth": 0,
            "ticks": ""
           }
          },
          "colorscale": {
           "diverging": [
            [
             0,
             "#8e0152"
            ],
            [
             0.1,
             "#c51b7d"
            ],
            [
             0.2,
             "#de77ae"
            ],
            [
             0.3,
             "#f1b6da"
            ],
            [
             0.4,
             "#fde0ef"
            ],
            [
             0.5,
             "#f7f7f7"
            ],
            [
             0.6,
             "#e6f5d0"
            ],
            [
             0.7,
             "#b8e186"
            ],
            [
             0.8,
             "#7fbc41"
            ],
            [
             0.9,
             "#4d9221"
            ],
            [
             1,
             "#276419"
            ]
           ],
           "sequential": [
            [
             0,
             "#0d0887"
            ],
            [
             0.1111111111111111,
             "#46039f"
            ],
            [
             0.2222222222222222,
             "#7201a8"
            ],
            [
             0.3333333333333333,
             "#9c179e"
            ],
            [
             0.4444444444444444,
             "#bd3786"
            ],
            [
             0.5555555555555556,
             "#d8576b"
            ],
            [
             0.6666666666666666,
             "#ed7953"
            ],
            [
             0.7777777777777778,
             "#fb9f3a"
            ],
            [
             0.8888888888888888,
             "#fdca26"
            ],
            [
             1,
             "#f0f921"
            ]
           ],
           "sequentialminus": [
            [
             0,
             "#0d0887"
            ],
            [
             0.1111111111111111,
             "#46039f"
            ],
            [
             0.2222222222222222,
             "#7201a8"
            ],
            [
             0.3333333333333333,
             "#9c179e"
            ],
            [
             0.4444444444444444,
             "#bd3786"
            ],
            [
             0.5555555555555556,
             "#d8576b"
            ],
            [
             0.6666666666666666,
             "#ed7953"
            ],
            [
             0.7777777777777778,
             "#fb9f3a"
            ],
            [
             0.8888888888888888,
             "#fdca26"
            ],
            [
             1,
             "#f0f921"
            ]
           ]
          },
          "colorway": [
           "#636efa",
           "#EF553B",
           "#00cc96",
           "#ab63fa",
           "#FFA15A",
           "#19d3f3",
           "#FF6692",
           "#B6E880",
           "#FF97FF",
           "#FECB52"
          ],
          "font": {
           "color": "#2a3f5f"
          },
          "geo": {
           "bgcolor": "white",
           "lakecolor": "white",
           "landcolor": "#E5ECF6",
           "showlakes": true,
           "showland": true,
           "subunitcolor": "white"
          },
          "hoverlabel": {
           "align": "left"
          },
          "hovermode": "closest",
          "mapbox": {
           "style": "light"
          },
          "paper_bgcolor": "white",
          "plot_bgcolor": "#E5ECF6",
          "polar": {
           "angularaxis": {
            "gridcolor": "white",
            "linecolor": "white",
            "ticks": ""
           },
           "bgcolor": "#E5ECF6",
           "radialaxis": {
            "gridcolor": "white",
            "linecolor": "white",
            "ticks": ""
           }
          },
          "scene": {
           "xaxis": {
            "backgroundcolor": "#E5ECF6",
            "gridcolor": "white",
            "gridwidth": 2,
            "linecolor": "white",
            "showbackground": true,
            "ticks": "",
            "zerolinecolor": "white"
           },
           "yaxis": {
            "backgroundcolor": "#E5ECF6",
            "gridcolor": "white",
            "gridwidth": 2,
            "linecolor": "white",
            "showbackground": true,
            "ticks": "",
            "zerolinecolor": "white"
           },
           "zaxis": {
            "backgroundcolor": "#E5ECF6",
            "gridcolor": "white",
            "gridwidth": 2,
            "linecolor": "white",
            "showbackground": true,
            "ticks": "",
            "zerolinecolor": "white"
           }
          },
          "shapedefaults": {
           "line": {
            "color": "#2a3f5f"
           }
          },
          "ternary": {
           "aaxis": {
            "gridcolor": "white",
            "linecolor": "white",
            "ticks": ""
           },
           "baxis": {
            "gridcolor": "white",
            "linecolor": "white",
            "ticks": ""
           },
           "bgcolor": "#E5ECF6",
           "caxis": {
            "gridcolor": "white",
            "linecolor": "white",
            "ticks": ""
           }
          },
          "title": {
           "x": 0.05
          },
          "xaxis": {
           "automargin": true,
           "gridcolor": "white",
           "linecolor": "white",
           "ticks": "",
           "title": {
            "standoff": 15
           },
           "zerolinecolor": "white",
           "zerolinewidth": 2
          },
          "yaxis": {
           "automargin": true,
           "gridcolor": "white",
           "linecolor": "white",
           "ticks": "",
           "title": {
            "standoff": 15
           },
           "zerolinecolor": "white",
           "zerolinewidth": 2
          }
         }
        },
        "title": {
         "text": "Observations of Pack Ice by Month and Year"
        },
        "width": 1000
       }
      }
     },
     "metadata": {},
     "output_type": "display_data"
    }
   ],
   "source": [
    "# Map the months of interest\n",
    "months = [11, 12, 1, 2, 3, 4]\n",
    "month_names = {11: \"November\", \n",
    "               12: \"December\", \n",
    "               1: \"January\", \n",
    "               2: \"February\", \n",
    "               3: \"March\", \n",
    "               4: \"April\"}\n",
    "\n",
    "# Filter data for each month and store in a map\n",
    "h_monthly = {\n",
    "    month: ice_df[(ice_df['Letter'] == \"H\") & (ice_df[\"Month\"]== month)]\n",
    "    for month in months\n",
    "}\n",
    "\n",
    "# Create subplots: 3 rows x 2 columns\n",
    "fig = make_subplots(\n",
    "    rows=3, cols=2,\n",
    "    subplot_titles=[month_names[m] for m in months],\n",
    "    specs=[[{\"type\": \"scattergeo\"}, {\"type\": \"scattergeo\"}],\n",
    "           [{\"type\": \"scattergeo\"}, {\"type\": \"scattergeo\"}],\n",
    "           [{\"type\": \"scattergeo\"}, {\"type\": \"scattergeo\"}]]\n",
    ")\n",
    "\n",
    "# Generate and insert scatter plots for each non-empty month's data\n",
    "# April is not plotted because it has no data\n",
    "row, col = 1, 1\n",
    "for month in months:\n",
    "    data = h_monthly[month]\n",
    "    if not data.empty:\n",
    "        plot = px.scatter_geo(data, lat = \"Lat\", lon = \"Lon\", color = \"Year\")\n",
    "        for trace in plot.data:\n",
    "            fig.add_trace(trace, row = row, col = col)\n",
    "        \n",
    "        if col == 1:\n",
    "            col = 2\n",
    "        else:\n",
    "            col = 1\n",
    "            row += 1\n",
    "    \n",
    "# Final layout adjustments\n",
    "\n",
    "fig.update_layout(\n",
    "    autosize=False,\n",
    "    width=1000,\n",
    "    height=1000,\n",
    "    title=\"Observations of Pack Ice by Month and Year\"\n",
    ")\n",
    "\n",
    "fig.show()\n",
    "    "
   ]
  },
  {
   "cell_type": "markdown",
   "metadata": {},
   "source": [
    "#### Average Latitude of Pack Ice Observations by Time Span\n",
    "\n",
    "This analysis groups \"H\"-type pack ice observations by month (December, January, February) and five-year periods (1935–1964). For each month and time span, it calculates the average latitude of observations and the total number of records. The resulting trend lines reveal how the average position of observed pack ice has changed over time, potentially indicating shifts in sea ice extent or observation patterns.\n"
   ]
  },
  {
   "cell_type": "code",
   "execution_count": 10,
   "metadata": {},
   "outputs": [],
   "source": [
    "time_bins = [(1935, 1939), (1940, 1944), (1945, 1949), (1950, 1954), (1955, 1959), (1960, 1964)]\n",
    "time_labels = [\"1935-1939\", \"1940-1944\", \"1945-1949\", \"1950-1954\", \"1955-1959\", \"1960-1964\"]\n",
    "\n",
    "def compute_avg_lat(df : pd.DataFrame) -> pd.DataFrame:\n",
    "    '''\n",
    "    Compute the average latitude of pack ice observations by month and time span\n",
    "\n",
    "    Args:\n",
    "        df (pd.DataFrame): DataFrame containing ice observation data\n",
    "\n",
    "    Returns:\n",
    "        pd.DataFrame: DataFrame with average latitude and count of observations\n",
    "    '''\n",
    "    result = pd.DataFrame(columns = ['Time Span', 'Avg Lat', 'Total'])\n",
    "    lat_map = {label: [] for label in time_labels}\n",
    "\n",
    "    for _, row in df.iterrows():\n",
    "        for (start, end), label in zip(time_bins, time_labels):\n",
    "            if start <= row['Year'] <= end:\n",
    "                lat_map[label].append(row['Lat'])\n",
    "                break\n",
    "            \n",
    "    for label in time_labels:\n",
    "        if lat_map[label]: # avoid division by zero\n",
    "            avg = np.mean(lat_map[label])\n",
    "            count = len(lat_map[label])\n",
    "            result.loc[len(result)] = [label, avg, count]\n",
    "    return result\n"
   ]
  },
  {
   "cell_type": "code",
   "execution_count": 12,
   "metadata": {},
   "outputs": [
    {
     "data": {
      "image/png": "[encoded data removed]",
      "text/plain": [
       "<Figure size 640x480 with 1 Axes>"
      ]
     },
     "metadata": {},
     "output_type": "display_data"
    }
   ],
   "source": [
    "# Apply function to each month\n",
    "dec_avg = compute_avg_lat(h_monthly[12])\n",
    "jan_avg = compute_avg_lat(h_monthly[1])\n",
    "feb_avg = compute_avg_lat(h_monthly[2])\n",
    "\n",
    "# Plot results\n",
    "sns.lineplot(data=dec_avg.iloc[:3], x=\"Time Span\", y=\"Avg Lat\", label=\"December\")\n",
    "sns.lineplot(data=jan_avg.iloc[:3], x=\"Time Span\", y=\"Avg Lat\", label=\"January\")\n",
    "sns.lineplot(data=feb_avg.iloc[:3], x=\"Time Span\", y=\"Avg Lat\", label=\"February\").set(ylabel=\"Average Latitude\")\n",
    "plt.ylim(-75, -55)\n",
    "plt.title(\"Average Latitude of Pack Ice Observations by Five Year Time Spans\")\n",
    "plt.show()\n"
   ]
  },
  {
   "cell_type": "markdown",
   "metadata": {},
   "source": [
    "### 2. Sea Surface Temperature"
   ]
  },
  {
   "cell_type": "markdown",
   "metadata": {},
   "source": [
    "#### a. Data preprocessing"
   ]
  },
  {
   "cell_type": "code",
   "execution_count": 13,
   "metadata": {},
   "outputs": [
    {
     "name": "stdout",
     "output_type": "stream",
     "text": [
      "<class 'pandas.core.frame.DataFrame'>\n",
      "Index: 4330 entries, 148 to 6250\n",
      "Data columns (total 3 columns):\n",
      " #   Column      Non-Null Count  Dtype  \n",
      "---  ------      --------------  -----  \n",
      " 0   date        4330 non-null   object \n",
      " 1   Latitude    4330 non-null   float64\n",
      " 2   Temp (sea)  4330 non-null   float64\n",
      "dtypes: float64(2), object(1)\n",
      "memory usage: 135.3+ KB\n"
     ]
    }
   ],
   "source": [
    "dlta = df[['date', 'Latitude', 'Temp (sea)']].copy()\n",
    "dlta.dropna(inplace=True)\n",
    "dlta = dlta[dlta['Latitude']<-55]\n",
    "dlta.info()\n"
   ]
  },
  {
   "cell_type": "code",
   "execution_count": 17,
   "metadata": {},
   "outputs": [],
   "source": [
    "# Convert date to month and year\n",
    "dlta['month'] = pd.to_datetime(dlta['date']).dt.month\n",
    "dlta['year'] = pd.to_datetime(dlta['date']).dt.year\n",
    "\n",
    "# Cyclic transformation of month\n",
    "dlta['month_sin'] = np.sin(2 * np.pi * dlta['month'] / 12)\n",
    "dlta['month_cos'] = np.cos(2 * np.pi * dlta['month'] / 12)\n",
    "\n",
    "# Normalize year\n",
    "dlta['year'] = (dlta['year'] - dlta['year'].mean()) / dlta['year'].std()\n"
   ]
  },
  {
   "cell_type": "code",
   "execution_count": 19,
   "metadata": {},
   "outputs": [
    {
     "name": "stdout",
     "output_type": "stream",
     "text": [
      "Random Forest R^2: 0.42941859525816795\n",
      "Random Forest RMSE: 0.9089113886767688\n"
     ]
    }
   ],
   "source": [
    "# Define feature and target\n",
    "x = dlta[['month_sin', 'month_cos', 'year', 'Latitude']]\n",
    "y = dlta['Temp (sea)']\n",
    "\n",
    "# Split for performance evaluation\n",
    "X_train, X_test, y_train, y_test = train_test_split(x, y, test_size=0.2, random_state=42)\n",
    "\n",
    "# Train Random Forest model\n",
    "rf_model = RandomForestRegressor(n_estimators=100, random_state=42)\n",
    "rf_model.fit(X_train, y_train)\n",
    "\n",
    "# Predict and evaluate\n",
    "y_pred_rf = rf_model.predict(X_test)\n",
    "r2_rf = r2_score(y_test, y_pred_rf)\n",
    "rmse_rf = np.sqrt(mean_squared_error(y_test, y_pred_rf))\n",
    "residuals_rf = y_test - y_pred_rf\n",
    "\n",
    "# Print evaluation metrics\n",
    "print(\"Random Forest R^2:\", r2_rf)\n",
    "print(\"Random Forest RMSE:\", rmse_rf)"
   ]
  },
  {
   "cell_type": "code",
   "execution_count": 21,
   "metadata": {},
   "outputs": [
    {
     "data": {
      "text/plain": [
       "<seaborn.axisgrid.PairGrid at 0x15a16ff2850>"
      ]
     },
     "execution_count": 21,
     "metadata": {},
     "output_type": "execute_result"
    },
    {
     "data": {
      "image/png": "[encoded data removed]",
      "text/plain": [
       "<Figure size 1000x1000 with 20 Axes>"
      ]
     },
     "metadata": {},
     "output_type": "display_data"
    }
   ],
   "source": [
    "# Visualize the relationship between features and target\n",
    "dlta['year'] = pd.to_datetime(dlta['date']).dt.year\n",
    "sns.pairplot(dlta[['Latitude', 'month', 'year','Temp (sea)']])"
   ]
  },
  {
   "cell_type": "code",
   "execution_count": 24,
   "metadata": {},
   "outputs": [
    {
     "data": {
      "image/png": "[encoded data removed]",
      "text/plain": [
       "<Figure size 800x600 with 2 Axes>"
      ]
     },
     "metadata": {},
     "output_type": "display_data"
    }
   ],
   "source": [
    "corr_matrix = dlta[['Latitude', 'month', 'year', 'Temp (sea)']].corr()\n",
    "\n",
    "# Plot heatmap\n",
    "plt.figure(figsize=(8, 6))\n",
    "sns.heatmap(\n",
    "    corr_matrix,\n",
    "    annot=True,\n",
    "    cmap='coolwarm',     # red for positive, blue for negative\n",
    "    fmt=\".2f\",\n",
    "    linewidths=0.5,\n",
    "    vmin=-1, vmax=1       # force color scale: blue = -1, red = +1\n",
    ")\n",
    "plt.title(\"Correlation Heatmap\")\n",
    "plt.tight_layout()\n",
    "plt.show()"
   ]
  },
  {
   "cell_type": "code",
   "execution_count": 23,
   "metadata": {},
   "outputs": [
    {
     "name": "stdout",
     "output_type": "stream",
     "text": [
      "Feature importances (normalized): [np.float64(0.15550179315460055), np.float64(0.3316350222402596), np.float64(0.5128631846051399)]\n"
     ]
    },
    {
     "data": {
      "image/png": "[encoded data removed]",
      "text/plain": [
       "<Figure size 800x500 with 1 Axes>"
      ]
     },
     "metadata": {},
     "output_type": "display_data"
    }
   ],
   "source": [
    "# Feature importance\n",
    "feature = rf_model.feature_importances_\n",
    "feature = [1-(feature[2]+feature[3]), feature[2], feature[3]]\n",
    "print(\"Feature importances (normalized):\", feature)\n",
    "\n",
    "# Corresponding feature names\n",
    "feature_names = ['Month', 'Year', 'Latitude']\n",
    "\n",
    "# Plot\n",
    "plt.figure(figsize=(8, 5))\n",
    "plt.barh(feature_names, feature)\n",
    "plt.xlabel(\"Importance Score\")\n",
    "plt.ylabel(\"Features\")\n",
    "plt.title(\"Feature Importance Affecting Temperature\")\n",
    "plt.tight_layout()\n",
    "plt.show()"
   ]
  },
  {
   "cell_type": "markdown",
   "metadata": {},
   "source": [
    "### 3. Air temperature"
   ]
  },
  {
   "cell_type": "markdown",
   "metadata": {},
   "source": [
    "This analysis compares monthly air temperature using two datasets."
   ]
  },
  {
   "cell_type": "code",
   "execution_count": 28,
   "metadata": {},
   "outputs": [],
   "source": [
    "# Load datasets\n",
    "df = pd.read_csv('Bjorge_et_al_catchlogbook_whaling_weather_data_1932-63_data_publication.csv')\n",
    "new_data_path = 'Divine_et_al_data_publication_Antarctic_logbooks_v2_Nov2023_final.xlsx'\n",
    "new_data_df = pd.read_excel(new_data_path)"
   ]
  },
  {
   "cell_type": "markdown",
   "metadata": {},
   "source": [
    "#### Data filtering and preprocessing\n",
    "\n",
    "We clean and filter out rows with missing temperature values. Then we categorize latitude into zones and extract seasonally relevant months.\n"
   ]
  },
  {
   "cell_type": "code",
   "execution_count": 29,
   "metadata": {},
   "outputs": [
    {
     "ename": "KeyError",
     "evalue": "['Temp (air), C']",
     "output_type": "error",
     "traceback": [
      "\u001b[1;31m---------------------------------------------------------------------------\u001b[0m",
      "\u001b[1;31mKeyError\u001b[0m                                  Traceback (most recent call last)",
      "\u001b[1;32m~\\AppData\\Local\\Temp\\ipykernel_27780\\1550877123.py\u001b[0m in \u001b[0;36m?\u001b[1;34m()\u001b[0m\n\u001b[0;32m      1\u001b[0m \u001b[1;31m# Filter out rows with missing air temperature values\u001b[0m\u001b[1;33m\u001b[0m\u001b[1;33m\u001b[0m\u001b[0m\n\u001b[0;32m      2\u001b[0m \u001b[0mtemp_df\u001b[0m \u001b[1;33m=\u001b[0m \u001b[0mdf\u001b[0m\u001b[1;33m[\u001b[0m\u001b[0mdf\u001b[0m\u001b[1;33m[\u001b[0m\u001b[1;34m'Temp (air)'\u001b[0m\u001b[1;33m]\u001b[0m\u001b[1;33m.\u001b[0m\u001b[0mnotna\u001b[0m\u001b[1;33m(\u001b[0m\u001b[1;33m)\u001b[0m\u001b[1;33m]\u001b[0m\u001b[1;33m.\u001b[0m\u001b[0mcopy\u001b[0m\u001b[1;33m(\u001b[0m\u001b[1;33m)\u001b[0m\u001b[1;33m\u001b[0m\u001b[1;33m\u001b[0m\u001b[0m\n\u001b[1;32m----> 3\u001b[1;33m \u001b[0mnew_data_df_filtered\u001b[0m \u001b[1;33m=\u001b[0m \u001b[0mnew_data_df\u001b[0m\u001b[1;33m.\u001b[0m\u001b[0mdropna\u001b[0m\u001b[1;33m(\u001b[0m\u001b[0msubset\u001b[0m\u001b[1;33m=\u001b[0m\u001b[1;33m[\u001b[0m\u001b[1;34m'Temp (air), C'\u001b[0m\u001b[1;33m]\u001b[0m\u001b[1;33m)\u001b[0m\u001b[1;33m\u001b[0m\u001b[1;33m\u001b[0m\u001b[0m\n\u001b[0m\u001b[0;32m      4\u001b[0m \u001b[1;33m\u001b[0m\u001b[0m\n\u001b[0;32m      5\u001b[0m \u001b[1;31m# Define latitude bands for whaling expedition\u001b[0m\u001b[1;33m\u001b[0m\u001b[1;33m\u001b[0m\u001b[0m\n\u001b[0;32m      6\u001b[0m \u001b[0mlat_bins\u001b[0m \u001b[1;33m=\u001b[0m \u001b[1;33m[\u001b[0m\u001b[1;33m-\u001b[0m\u001b[1;36m70\u001b[0m\u001b[1;33m,\u001b[0m \u001b[1;33m-\u001b[0m\u001b[1;36m60\u001b[0m\u001b[1;33m,\u001b[0m \u001b[1;33m-\u001b[0m\u001b[1;36m50\u001b[0m\u001b[1;33m,\u001b[0m \u001b[1;33m-\u001b[0m\u001b[1;36m40\u001b[0m\u001b[1;33m]\u001b[0m\u001b[1;33m\u001b[0m\u001b[1;33m\u001b[0m\u001b[0m\n",
      "\u001b[1;32mc:\\Users\\dangv\\AppData\\Local\\Programs\\Python\\Python313\\Lib\\site-packages\\pandas\\core\\frame.py\u001b[0m in \u001b[0;36m?\u001b[1;34m(self, axis, how, thresh, subset, inplace, ignore_index)\u001b[0m\n\u001b[0;32m   6666\u001b[0m             \u001b[0max\u001b[0m \u001b[1;33m=\u001b[0m \u001b[0mself\u001b[0m\u001b[1;33m.\u001b[0m\u001b[0m_get_axis\u001b[0m\u001b[1;33m(\u001b[0m\u001b[0magg_axis\u001b[0m\u001b[1;33m)\u001b[0m\u001b[1;33m\u001b[0m\u001b[1;33m\u001b[0m\u001b[0m\n\u001b[0;32m   6667\u001b[0m             \u001b[0mindices\u001b[0m \u001b[1;33m=\u001b[0m \u001b[0max\u001b[0m\u001b[1;33m.\u001b[0m\u001b[0mget_indexer_for\u001b[0m\u001b[1;33m(\u001b[0m\u001b[0msubset\u001b[0m\u001b[1;33m)\u001b[0m\u001b[1;33m\u001b[0m\u001b[1;33m\u001b[0m\u001b[0m\n\u001b[0;32m   6668\u001b[0m             \u001b[0mcheck\u001b[0m \u001b[1;33m=\u001b[0m \u001b[0mindices\u001b[0m \u001b[1;33m==\u001b[0m \u001b[1;33m-\u001b[0m\u001b[1;36m1\u001b[0m\u001b[1;33m\u001b[0m\u001b[1;33m\u001b[0m\u001b[0m\n\u001b[0;32m   6669\u001b[0m             \u001b[1;32mif\u001b[0m \u001b[0mcheck\u001b[0m\u001b[1;33m.\u001b[0m\u001b[0many\u001b[0m\u001b[1;33m(\u001b[0m\u001b[1;33m)\u001b[0m\u001b[1;33m:\u001b[0m\u001b[1;33m\u001b[0m\u001b[1;33m\u001b[0m\u001b[0m\n\u001b[1;32m-> 6670\u001b[1;33m                 \u001b[1;32mraise\u001b[0m \u001b[0mKeyError\u001b[0m\u001b[1;33m(\u001b[0m\u001b[0mnp\u001b[0m\u001b[1;33m.\u001b[0m\u001b[0marray\u001b[0m\u001b[1;33m(\u001b[0m\u001b[0msubset\u001b[0m\u001b[1;33m)\u001b[0m\u001b[1;33m[\u001b[0m\u001b[0mcheck\u001b[0m\u001b[1;33m]\u001b[0m\u001b[1;33m.\u001b[0m\u001b[0mtolist\u001b[0m\u001b[1;33m(\u001b[0m\u001b[1;33m)\u001b[0m\u001b[1;33m)\u001b[0m\u001b[1;33m\u001b[0m\u001b[1;33m\u001b[0m\u001b[0m\n\u001b[0m\u001b[0;32m   6671\u001b[0m             \u001b[0magg_obj\u001b[0m \u001b[1;33m=\u001b[0m \u001b[0mself\u001b[0m\u001b[1;33m.\u001b[0m\u001b[0mtake\u001b[0m\u001b[1;33m(\u001b[0m\u001b[0mindices\u001b[0m\u001b[1;33m,\u001b[0m \u001b[0maxis\u001b[0m\u001b[1;33m=\u001b[0m\u001b[0magg_axis\u001b[0m\u001b[1;33m)\u001b[0m\u001b[1;33m\u001b[0m\u001b[1;33m\u001b[0m\u001b[0m\n\u001b[0;32m   6672\u001b[0m \u001b[1;33m\u001b[0m\u001b[0m\n\u001b[0;32m   6673\u001b[0m         \u001b[1;32mif\u001b[0m \u001b[0mthresh\u001b[0m \u001b[1;32mis\u001b[0m \u001b[1;32mnot\u001b[0m \u001b[0mlib\u001b[0m\u001b[1;33m.\u001b[0m\u001b[0mno_default\u001b[0m\u001b[1;33m:\u001b[0m\u001b[1;33m\u001b[0m\u001b[1;33m\u001b[0m\u001b[0m\n",
      "\u001b[1;31mKeyError\u001b[0m: ['Temp (air), C']"
     ]
    }
   ],
   "source": [
    "# Filter out rows with missing air temperature values\n",
    "temp_df = df[df['Temp (air)'].notna()].copy()\n",
    "new_data_df_filtered = new_data_df.dropna(subset=['Temp (air), C'])\n",
    "\n",
    "# Define latitude bands for whaling expedition\n",
    "lat_bins = [-70, -60, -50, -40]\n",
    "lat_labels = ['60-70°S', '50-60°S', '40-50°S']\n",
    "temp_df['lat_zone'] = pd.cut(temp_df['Latitude'], bins=lat_bins, labels=lat_labels)\n",
    "\n",
    "# Tag Antarctic dataset as single zone\n",
    "new_data_df_filtered['lat_zone'] = 'Antarctic'\n"
   ]
  },
  {
   "cell_type": "code",
   "execution_count": null,
   "metadata": {},
   "outputs": [],
   "source": []
  }
 ],
 "metadata": {
  "kernelspec": {
   "display_name": "Python 3",
   "language": "python",
   "name": "python3"
  },
  "language_info": {
   "codemirror_mode": {
    "name": "ipython",
    "version": 3
   },
   "file_extension": ".py",
   "mimetype": "text/x-python",
   "name": "python",
   "nbconvert_exporter": "python",
   "pygments_lexer": "ipython3",
   "version": "3.13.2"
  }
 },
 "nbformat": 4,
 "nbformat_minor": 2
}
